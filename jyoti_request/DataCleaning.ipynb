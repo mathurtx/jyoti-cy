{
 "cells": [
  {
   "cell_type": "code",
   "execution_count": 3,
   "metadata": {
    "collapsed": true
   },
   "outputs": [],
   "source": [
    "import json\n",
    "jsonFile = open('request.json', 'r')\n",
    "full_json = \"\"\n",
    "for line in jsonFile:\n",
    "    full_json+=line\n",
    "values = json.loads(full_json)"
   ]
  },
  {
   "cell_type": "code",
   "execution_count": 7,
   "metadata": {
    "collapsed": true
   },
   "outputs": [],
   "source": [
    "import random\n",
    "import pandas as pd"
   ]
  },
  {
   "cell_type": "code",
   "execution_count": 8,
   "metadata": {
    "collapsed": false
   },
   "outputs": [],
   "source": [
    "longitude = []\n",
    "latitude = []\n",
    "username= []\n",
    "report_type = []\n",
    "content = []\n",
    "data_source = []\n",
    "data_source_choices = ['TF','AP']\n",
    "report_type_choices = ['ASSAULT', 'TEASING', 'GROPED', 'DRUGGED', 'RAPED']\n",
    "for line in values['statuses']:\n",
    "    if line['geo'] is not None:\n",
    "        username.append(line['user']['screen_name'])\n",
    "        report_type.append(random.choice(report_type_choices))\n",
    "        latitude.append(line['geo']['coordinates'][0])\n",
    "        longitude.append(line['geo']['coordinates'][1])\n",
    "        content.append(line['text'])\n",
    "        data_source.append(random.choice(data_source_choices))\n",
    "tweet_list = pd.DataFrame(\n",
    "    {'username': username,\n",
    "     'latitude': latitude,\n",
    "     'longitude': longitude,\n",
    "     'report_type':report_type,\n",
    "     'report_content':content,\n",
    "     'data_source':data_source\n",
    "    })"
   ]
  },
  {
   "cell_type": "code",
   "execution_count": 14,
   "metadata": {
    "collapsed": false
   },
   "outputs": [],
   "source": [
    "tweet_list.to_csv('data.csv', sep='|')"
   ]
  },
  {
   "cell_type": "code",
   "execution_count": null,
   "metadata": {
    "collapsed": true
   },
   "outputs": [],
   "source": []
  }
 ],
 "metadata": {
  "kernelspec": {
   "display_name": "Python 3",
   "language": "python",
   "name": "python3"
  },
  "language_info": {
   "codemirror_mode": {
    "name": "ipython",
    "version": 3
   },
   "file_extension": ".py",
   "mimetype": "text/x-python",
   "name": "python",
   "nbconvert_exporter": "python",
   "pygments_lexer": "ipython3",
   "version": "3.6.0"
  }
 },
 "nbformat": 4,
 "nbformat_minor": 2
}
